{
 "cells": [
  {
   "cell_type": "code",
   "execution_count": null,
   "id": "f4355a42",
   "metadata": {},
   "outputs": [],
   "source": [
    "import requests\n",
    "from bs4 import BeautifulSoup as soup\n",
    "import xlsxwriter  "
   ]
  },
  {
   "cell_type": "markdown",
   "id": "49b1ec5c",
   "metadata": {},
   "source": [
    "## Defining Location, and making get request to each website page"
   ]
  },
  {
   "cell_type": "code",
   "execution_count": null,
   "id": "6d8a2ec8",
   "metadata": {},
   "outputs": [],
   "source": [
    "Location = 'Berlin'\n",
    "\n",
    "# page_list = []\n",
    "pages = []\n",
    "\n",
    "# Adding to a list, the get request of each page listing!!!\n",
    "for i in range(0, 5):\n",
    "#page_list.append('https://www.wg-gesucht.de/1-zimmer-wohnungen-in-{}.8.1.1.{}.html?csrf_token=5d47478e71f6fc217f3d77860ce19ccbcc58c5c1&offer_filter=1&city_id=8&noDeact=1&categories%5B%5D=1&rent_types%5B%5D=2'.format(Location, i))\n",
    "    page = requests.get('https://www.wg-gesucht.de/1-zimmer-wohnungen-in-{}.8.1.1.{}.html?csrf_token=5d47478e71f6fc217f3d77860ce19ccbcc58c5c1&offer_filter=1&city_id=8&noDeact=1&categories%5B%5D=1&rent_types%5B%5D=2'.format(Location, i))\n",
    "    pages.append(page)\n",
    "    print(page.status_code)\n",
    "    \n"
   ]
  },
  {
   "cell_type": "markdown",
   "id": "4480e939",
   "metadata": {},
   "source": [
    "## Loading each page and creating a list with each loaded page!"
   ]
  },
  {
   "cell_type": "code",
   "execution_count": null,
   "id": "3275c00f",
   "metadata": {},
   "outputs": [],
   "source": [
    "page_loaded = []\n",
    "\n",
    "for i in range(0, len(pages)):\n",
    "    page_loaded.append(soup(pages[i].content, 'html'))"
   ]
  },
  {
   "cell_type": "markdown",
   "id": "b8711c46",
   "metadata": {},
   "source": [
    "## With each page loaded we iterate to get all the prices, links and sizes"
   ]
  },
  {
   "cell_type": "code",
   "execution_count": null,
   "id": "00b1d835",
   "metadata": {},
   "outputs": [],
   "source": [
    "List = []\n",
    "Price = []\n",
    "Size = []\n",
    "Address = []\n",
    "\n",
    "# Iterating the loaded page list I created previously\n",
    "for loaded_page_index in page_loaded:\n",
    "    # Iterating on each loaded page to get each apartment list\n",
    "    \n",
    "    for a in loaded_page_index.findAll('div', {'class':'wgg_card offer_list_item'}):\n",
    "        List.append('https://www.wg-gesucht.de{}'.format(a.a['href']))\n",
    "        \n",
    "        # Iterating on each apartment div block to get each apartment price\n",
    "        for e in a.findAll('div', {'class':'row noprint middle'}):\n",
    "            Price.append(e.b.text)\n",
    "        # Getting Address! NOTE: I have to fix the outcome to get just the address!!    \n",
    "        for p in a.findAll('div', {'class':'col-xs-11'}):\n",
    "            Address.append(p.span.text)\n",
    "            \n",
    "            \n",
    "            \n",
    "            # Iterating on each apartment div inner block to get each apartment size\n",
    "            for s in e.findAll('div', {'class': 'col-xs-3 text-right'}):\n",
    "                Size.append(s.b.text[0])\n",
    "               \n",
    "                \n",
    "\n",
    "# print('Access Link:', len(List))\n",
    "# print('Price:', len(Price))\n",
    "# print('Size:', len(Size))\n",
    "\n",
    "# print('Access Link:', List[0])\n",
    "# print('Price:', Price[0])\n",
    "# print('Size:', Size[0])\n",
    "# print('Address:', Address)"
   ]
  },
  {
   "cell_type": "markdown",
   "id": "26f7f7fc",
   "metadata": {},
   "source": [
    "## After getting the data, we now export it to an Excel File"
   ]
  },
  {
   "cell_type": "code",
   "execution_count": null,
   "id": "d39e4c83",
   "metadata": {},
   "outputs": [],
   "source": [
    "# I create a master list with inner list inside (each inner list is the gathered data!)\n",
    "Apartments = [List, Price, Size]\n",
    "\n",
    "\n",
    "# This funtion create an excel file and gets every list's item on it!\n",
    "def insert_data(listdata):\n",
    "    wb = xlsxwriter.Workbook(\"Apt-Listing.xlsx\")\n",
    "    ws = wb.add_worksheet()\n",
    "    row = 0\n",
    "    col = 0\n",
    "    for line in listdata:\n",
    "        for item in line:\n",
    "            ws.write(row, col, item)\n",
    "            row += 1\n",
    "        col += 1\n",
    "        row = 0\n",
    "    wb.close()\n",
    " \n",
    "insert_data(Apartments)"
   ]
  },
  {
   "cell_type": "code",
   "execution_count": null,
   "id": "c2aa5c26",
   "metadata": {},
   "outputs": [],
   "source": []
  }
 ],
 "metadata": {
  "kernelspec": {
   "display_name": "Python 3 (ipykernel)",
   "language": "python",
   "name": "python3"
  },
  "language_info": {
   "codemirror_mode": {
    "name": "ipython",
    "version": 3
   },
   "file_extension": ".py",
   "mimetype": "text/x-python",
   "name": "python",
   "nbconvert_exporter": "python",
   "pygments_lexer": "ipython3",
   "version": "3.8.11"
  }
 },
 "nbformat": 4,
 "nbformat_minor": 5
}
